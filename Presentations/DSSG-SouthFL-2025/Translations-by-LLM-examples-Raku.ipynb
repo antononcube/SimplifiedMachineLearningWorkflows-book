{
 "cells": [
  {
   "cell_type": "code",
   "execution_count": 13,
   "metadata": {
    "jupyter": {
     "is_executing": true
    }
   },
   "outputs": [],
   "source": [
    "use LLM::Configurations;\n",
    "use DSL::Examples;\n",
    "use DSL::English::QuantileRegressionWorkflows;"
   ]
  },
  {
   "cell_type": "code",
   "execution_count": 9,
   "metadata": {},
   "outputs": [
    {
     "data": {
      "text/plain": [
       "&LLMQRMon"
      ]
     },
     "execution_count": 9,
     "metadata": {},
     "output_type": "execute_result"
    }
   ],
   "source": [
    "use LLM::Functions;\n",
    "my &llm-pipeline-segment = llm-example-function(dsl-examples()<Python><QRMon>, e => $conf4o);\n",
    "\n",
    "sub LLMQRMon(Str $s) {\n",
    "    my $res = &llm-pipeline-segment($s);\n",
    "    $res .= trim;\n",
    "    return $res;\n",
    "}"
   ]
  },
  {
   "cell_type": "code",
   "execution_count": null,
   "metadata": {},
   "outputs": [
    {
     "data": {
      "text/plain": [
       "[Regressionizer(temp_data) echo_data_summary() rescale(regressor=True, value=False) quantile_regression(knots=20, probs=[0.025, 0.5, 0.976]) least_squares_fit(funcs=34) date_list_plot(width=900, height=900*1/3) ```python\n",
       "date_list_plot(outliers=True, width=900, height=900*1/3)\n",
       "```]"
      ]
     },
     "execution_count": 10,
     "metadata": {},
     "output_type": "execute_result"
    }
   ],
   "source": [
    "my @qrPythonCode =\n",
    "   LLMQRMon( \"use dataset temp_data\"),\n",
    "   LLMQRMon( \"echo data summari\"),\n",
    "   LLMQRMon( \"rescale the x-axis\"),\n",
    "   LLMQRMon( \"do quantile regression with 20 knots for probabilities 0.025, 0.5, and 0.976\"),\n",
    "   LLMQRMon( \"do linear regression 34 functions\"),\n",
    "   LLMQRMon( \"show date list plot using image size 900 and aspect ratio 1/3\"),\n",
    "   LLMQRMon( \"date list plot outliers with image size 900 and aspect ratio 1/3\")"
   ]
  },
  {
   "cell_type": "code",
   "execution_count": 11,
   "metadata": {},
   "outputs": [
    {
     "data": {
      "text/plain": [
       "Regressionizer(temp_data)\n",
       ".echo_data_summary()\n",
       ".rescale(regressor=True, value=False)\n",
       ".quantile_regression(knots=20, probs=[0.025, 0.5, 0.976])\n",
       ".least_squares_fit(funcs=34)\n",
       ".date_list_plot(width=900, height=900*1/3)\n",
       ".```python\n",
       "date_list_plot(outliers=True, width=900, height=900*1/3)\n",
       "```"
      ]
     },
     "execution_count": 11,
     "metadata": {},
     "output_type": "execute_result"
    }
   ],
   "source": [
    "@qrPythonCode.join(\"\\n.\")"
   ]
  },
  {
   "cell_type": "markdown",
   "metadata": {},
   "source": [
    "Compare with the \"Small Language Model\" (SML) results:"
   ]
  },
  {
   "cell_type": "code",
   "execution_count": 36,
   "metadata": {},
   "outputs": [
    {
     "name": "stderr",
     "output_type": "stream",
     "text": [
      "Possible misspelling of 'summary' as 'summari'.\n"
     ]
    },
    {
     "data": {
      "text/plain": [
       "obj = Regressionizer(temp_data).echo_data_summary().rescale( regressor = True).quantile_regression( knots = 20, probs = [0.025, 0.5, 0.976] ).plot( date_plot = True).plot( datePlotQ = false)"
      ]
     },
     "execution_count": 36,
     "metadata": {},
     "output_type": "execute_result"
    }
   ],
   "source": [
    "my $spec = q:to/END/;\n",
    "use dataset temp_data\n",
    "echo data summari;\n",
    "rescale the x axis;\n",
    "do quantile regression with 20 knots, with probabilities 0.025, 0.5, and 0.976;\n",
    "show date list plot;\n",
    "show outliers plot;\n",
    "END\n",
    "\n",
    "ToQuantileRegressionWorkflowCode($spec, target => 'Python::Regressionizer')"
   ]
  }
 ],
 "metadata": {
  "kernelspec": {
   "display_name": "RakuChatbook",
   "language": "raku",
   "name": "raku"
  },
  "language_info": {
   "file_extension": ".raku",
   "mimetype": "text/x-raku",
   "name": "raku",
   "version": "6.d"
  }
 },
 "nbformat": 4,
 "nbformat_minor": 2
}

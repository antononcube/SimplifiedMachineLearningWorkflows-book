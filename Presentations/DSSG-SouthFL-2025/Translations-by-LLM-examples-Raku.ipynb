{
 "cells": [
  {
   "cell_type": "code",
   "execution_count": 1,
   "metadata": {
    "jupyter": {
     "is_executing": true
    }
   },
   "outputs": [],
   "source": [
    "use LLM::Configurations;"
   ]
  },
  {
   "cell_type": "code",
   "execution_count": 2,
   "metadata": {},
   "outputs": [
    {
     "data": {
      "text/plain": [
       "-> **@args, *%args { #`(Block|5495820722832) ... }"
      ]
     },
     "execution_count": 2,
     "metadata": {},
     "output_type": "execute_result"
    }
   ],
   "source": [
    "my &fLLMForQRMon = llm-example-function([\n",
    "    'use tsTemp' => 'Regressionizer(temp_data)',\n",
    "    'with the data tsTemp' => 'Regressionizer(temp_data)',\n",
    "    'do regression with 12 knots' => 'quantile_regression(knots=12)',\n",
    "    'quantile regression with 30 knots and interpolation order 3' => 'quantile_regression(knots=12,order=3)',\n",
    "    'compute the regression quantiles for probabilities 0.1, 0.5, and 0.9' => 'quantile_regression(knots=12, probs=[0.1, 0.5, 0.9])',\n",
    "    'compute linear regression' => 'least_squares_fit(funcs=6)',\n",
    "    'compute linear regression with 14 basis functions' => 'least_squares_fit(funcs=14)',\n",
    "    'do a least squares fit with the basis functions MyFuncs' => 'least_squares_fit(funcs=MyFuncs)',\n",
    "    'show date list plot' => 'date_list_plot()',\n",
    "    'plot the data and fits' => 'plot()',\n",
    "    'plot with width 800 and aspect ratio 1/3' => 'plot(width=800, height=800*1/3)',\n",
    "    'plot with image size 1000 and plot theme plotly_dark' => 'plot(width=1000, template=\\\"plotly_dark\\\")',\n",
    "    'show error plots' => 'error_plots()',\n",
    "    'show date list error plots' => 'error_plots(date_list_plot=True)',\n",
    "    'show relative error plots' => 'error_plots(relative_errors=True)',\n",
    "    'echo data summary' => 'echo_data_summary()',\n",
    "    'rescale the data' => 'rescale(regressor=False, value=True)',\n",
    "    'rescale the data in both dimensions' => 'rescale(regressor=True, value=True)',\n",
    "    'find outliers' => 'outliers()',\n",
    "    'plot outliers' => 'outliers_plot()',\n",
    "    'take the value' => 'take_value()',\n",
    "    'show the value' => 'take_value()'\n",
    "],\n",
    "e => $conf4o\n",
    ");"
   ]
  },
  {
   "cell_type": "code",
   "execution_count": 3,
   "metadata": {},
   "outputs": [
    {
     "data": {
      "text/plain": [
       "&LLMQRMon"
      ]
     },
     "execution_count": 3,
     "metadata": {},
     "output_type": "execute_result"
    }
   ],
   "source": [
    "sub LLMQRMon(Str $s) {\n",
    "    my $res = &fLLMForQRMon($s);\n",
    "    $res .= trim;\n",
    "    return $res;\n",
    "}"
   ]
  },
  {
   "cell_type": "code",
   "execution_count": 4,
   "metadata": {},
   "outputs": [
    {
     "data": {
      "text/plain": [
       "[Regressionizer(temp_data) echo_data_summary() rescale(regressor=True, value=False) quantile_regression(knots=20, probs=[0.025, 0.5, 0.976]) least_squares_fit(funcs=34) date_list_plot(width=900, height=900*1/3) outliers_plot(date_list_plot=True, width=900, height=900*1/3)]"
      ]
     },
     "execution_count": 4,
     "metadata": {},
     "output_type": "execute_result"
    }
   ],
   "source": [
    "my @qrPythonCode =\n",
    "   LLMQRMon( \"use dataset temp_data\"),\n",
    "   LLMQRMon( \"echo data summari\"),\n",
    "   LLMQRMon( \"rescale the x-axis\"),\n",
    "   LLMQRMon( \"do quantile regression with 20 knots for probabilities 0.025, 0.5, and 0.976\"),\n",
    "   LLMQRMon( \"do linear regression 34 functions\"),\n",
    "   LLMQRMon( \"show date list plot using image size 900 and aspect ratio 1/3\"),\n",
    "   LLMQRMon( \"date list plot outliers with image size 900 and aspect ratio 1/3\")"
   ]
  },
  {
   "cell_type": "code",
   "execution_count": 5,
   "metadata": {},
   "outputs": [
    {
     "data": {
      "text/plain": [
       "Regressionizer(temp_data)\n",
       ".echo_data_summary()\n",
       ".rescale(regressor=True, value=False)\n",
       ".quantile_regression(knots=20, probs=[0.025, 0.5, 0.976])\n",
       ".least_squares_fit(funcs=34)\n",
       ".date_list_plot(width=900, height=900*1/3)\n",
       ".outliers_plot(date_list_plot=True, width=900, height=900*1/3)"
      ]
     },
     "execution_count": 5,
     "metadata": {},
     "output_type": "execute_result"
    }
   ],
   "source": [
    "@qrPythonCode.join(\"\\n.\")"
   ]
  },
  {
   "cell_type": "code",
   "execution_count": null,
   "metadata": {},
   "outputs": [],
   "source": []
  }
 ],
 "metadata": {
  "kernelspec": {
   "display_name": "RakuChatbook",
   "language": "raku",
   "name": "raku"
  },
  "language_info": {
   "file_extension": ".raku",
   "mimetype": "text/x-raku",
   "name": "raku",
   "version": "6.d"
  }
 },
 "nbformat": 4,
 "nbformat_minor": 2
}

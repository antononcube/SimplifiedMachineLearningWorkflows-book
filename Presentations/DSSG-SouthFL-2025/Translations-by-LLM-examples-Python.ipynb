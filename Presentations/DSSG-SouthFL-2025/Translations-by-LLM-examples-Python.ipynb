{
 "cells": [
  {
   "cell_type": "code",
   "execution_count": 26,
   "metadata": {
    "jupyter": {
     "is_executing": true
    }
   },
   "outputs": [],
   "source": [
    "from LLMFunctionObjects import *\n",
    "from LLMPrompts import *\n",
    "\n",
    "conf4o = llm_configuration(\"chatgpt\", model=\"gpt-4o\", temperature = 0.4, max_tokens = 4096)\n",
    "conf4oMini = llm_configuration(\"chatgpt\", model=\"gpt-4o-mini\", temperature = 0.4, max_tokens = 4096)"
   ]
  },
  {
   "cell_type": "code",
   "execution_count": 27,
   "metadata": {},
   "outputs": [],
   "source": [
    "fLLMForQRMon = llm_example_function({\n",
    "    'use tsTemp' : 'Regressionizer(temp_data)',\n",
    "    'with the data tsTemp' : 'Regressionizer(temp_data)',\n",
    "    'do regression with 12 knots' : 'quantile_regression(knots=12)',\n",
    "    'quantile regression with 30 knots and interpolation order 3' : 'quantile_regression(knots=12,order=3)',\n",
    "    'compute the regression quantiles for probabilities 0.1, 0.5, and 0.9' : 'quantile_regression(knots=12, probs=[0.1, 0.5, 0.9])',\n",
    "    'compute linear regression' : 'least_squares_fit(funcs=6)',\n",
    "    'compute linear regression with 14 basis functions' : 'least_squares_fit(funcs=14)',\n",
    "    'do a least squares fit with the basis functions MyFuncs' : 'least_squares_fit(funcs=MyFuncs)',\n",
    "    'show date list plot' : 'date_list_plot()',\n",
    "    'plot the data and fits' : 'plot()',\n",
    "    'plot with width 800 and aspect ratio 1/3' : 'plot(width=800, height=800*1/3)',\n",
    "    'plot with image size 1000 and plot theme plotly_dark' : 'plot(width=1000, template=\\\"plotly_dark\\\")',\n",
    "    'show error plots' : 'error_plots()',\n",
    "    'show date list error plots' : 'error_plots(date_list_plot=True)',\n",
    "    'show relative error plots' : 'error_plots(relative_errors=True)',\n",
    "    'echo data summary' : 'echo_data_summary()',\n",
    "    'rescale the data' : 'rescale(regressor=False, value=True)',\n",
    "    'rescale the data in both dimensions' : 'rescale(regressor=True, value=True)',\n",
    "    'find outliers' : 'outliers()',\n",
    "    'plot outliers' : 'outliers_plot()',\n",
    "    'take the value' : 'take_value()',\n",
    "    'show the value' : 'take_value()'\n",
    "},\n",
    "llm_evaluator = conf4oMini\n",
    ")"
   ]
  },
  {
   "cell_type": "code",
   "execution_count": 28,
   "metadata": {},
   "outputs": [],
   "source": [
    "def LLMQRMon(s):\n",
    "    res = fLLMForQRMon(s)\n",
    "    res = res.strip()\n",
    "    return res"
   ]
  },
  {
   "cell_type": "code",
   "execution_count": 29,
   "metadata": {},
   "outputs": [],
   "source": [
    "qrPythonCode = [\n",
    "   LLMQRMon( \"use dataset temp_data\"),\n",
    "   LLMQRMon( \"echo data summari\"),\n",
    "   LLMQRMon( \"rescale the x-axis\"),\n",
    "   LLMQRMon( \"do quantile regression with 20 knots for probabilities 0.025, 0.5, and 0.976\"),\n",
    "   LLMQRMon( \"do linear regression 34 functions\"),\n",
    "   LLMQRMon( \"show date list plot using image size 900 and aspect ratio 1/3\"),\n",
    "   LLMQRMon( \"date list plot outliers with image size 900 and aspect ratio 1/3\")\n",
    "]"
   ]
  },
  {
   "cell_type": "code",
   "execution_count": 30,
   "metadata": {},
   "outputs": [
    {
     "name": "stdout",
     "output_type": "stream",
     "text": [
      "t a k e _ d a t a s e t ( t e m p _ d a t a )\n",
      ".t a k e _ d a t a _ s u m m a r y ( )\n",
      ".r e s c a l e _ x _ a x i s ( )\n",
      ".```python\n",
      "do_quantile_regression(knots=20, probabilities=[0.025, 0.5, 0.976])\n",
      "```\n",
      ".t a k e _ l i n e a r _ r e g r e s s i o n ( 3 4 )\n",
      ".```python\n",
      "import matplotlib.pyplot as plt\n",
      "\n",
      "def show_date_list_plot(dates, values):\n",
      "    plt.figure(figsize=(900, 300))\n",
      "    plt.plot(dates, values)\n",
      "    plt.title('Date List Plot')\n",
      "    plt.xlabel('Date')\n",
      "    plt.ylabel('Values')\n",
      "    plt.xticks(rotation=45)\n",
      "    plt.tight_layout()\n",
      "    plt.show()\n",
      "```\n",
      ".```python\n",
      "import matplotlib.pyplot as plt\n",
      "import numpy as np\n",
      "\n",
      "def plot_outliers(data, image_size=(900, 300)):\n",
      "    # Create a figure with specified image size\n",
      "    plt.figure(figsize=(image_size[0] / 100, image_size[1] / 100), dpi=100)\n",
      "    \n",
      "    # Calculate mean and standard deviation\n",
      "    mean = np.mean(data)\n",
      "    std_dev = np.std(data)\n",
      "    \n",
      "    # Define outlier thresholds\n",
      "    lower_threshold = mean - 2 * std_dev\n",
      "    upper_threshold = mean + 2 * std_dev\n",
      "    \n",
      "    # Identify outliers\n",
      "    outliers = [x for x in data if x < lower_threshold or x > upper_threshold]\n",
      "    \n",
      "    # Plot data\n",
      "    plt.plot(data, label='Data')\n",
      "    plt.scatter(np.where(np.isin(data, outliers)), outliers, color='red', label='Outliers')\n",
      "    \n",
      "    # Add title and labels\n",
      "    plt.title('Data with Outliers')\n",
      "    plt.xlabel('Index')\n",
      "    plt.ylabel('Value')\n",
      "    plt.legend()\n",
      "    \n",
      "    # Show the plot\n",
      "    plt.show()\n",
      "\n",
      "# Example usage\n",
      "data = np.random.normal(0, 1, 100)  # Generate random data\n",
      "plot_outliers(data)\n",
      "```\n"
     ]
    }
   ],
   "source": [
    "print(\"\\n.\".join(qrPythonCode))"
   ]
  },
  {
   "cell_type": "code",
   "execution_count": null,
   "metadata": {},
   "outputs": [],
   "source": []
  }
 ],
 "metadata": {
  "kernelspec": {
   "display_name": "SciPyCentric",
   "language": "python",
   "name": "python3"
  },
  "language_info": {
   "codemirror_mode": {
    "name": "ipython",
    "version": 3
   },
   "file_extension": ".py",
   "mimetype": "text/x-python",
   "name": "python",
   "nbconvert_exporter": "python",
   "pygments_lexer": "ipython3",
   "version": "3.12.2"
  }
 },
 "nbformat": 4,
 "nbformat_minor": 2
}

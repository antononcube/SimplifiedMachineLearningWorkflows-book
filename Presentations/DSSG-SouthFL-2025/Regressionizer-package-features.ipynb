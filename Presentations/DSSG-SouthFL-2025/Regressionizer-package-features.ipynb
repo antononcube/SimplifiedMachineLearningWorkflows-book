{
 "cells": [
  {
   "cell_type": "markdown",
   "metadata": {},
   "source": [
    "# Regressionizer features"
   ]
  },
  {
   "cell_type": "markdown",
   "metadata": {},
   "source": [
    "\n",
    "------\n",
    "\n",
    "## Summary of `Regressionizer` features"
   ]
  },
  {
   "cell_type": "markdown",
   "metadata": {},
   "source": [
    "\n",
    "- The primary focus of `Regressionizer` is [Quantile Regression (QR)](https://en.wikipedia.org/wiki/Quantile_regression), [RK1, RK2].\n",
    "\n",
    "- It closely follows the monadic pipeline design explained in detail in the document\n",
    "[\"A monad for Quantile Regression workflows\"](https://github.com/antononcube/MathematicaForPrediction/blob/master/MarkdownDocuments/A-monad-for-Quantile-Regression-workflows.md), [AA1].\n",
    "\n",
    "- The class `Regressionizer` facilitates rapid specifications of regressions workflows.\n",
    "  - To quickly specify:\n",
    "    - data rescaling and summary\n",
    "    - regression computations\n",
    "    - outliers finding\n",
    "    - conditional Cumulative Distribution Functions (CDFs) reconstruction\n",
    "    - plotting of data, fits, residual errors, outliers, CDFs\n",
    "\n",
    "- `Regressionizer` works with data frames, numpy arrays, lists of numbers, and lists of numeric pairs."
   ]
  },
  {
   "cell_type": "markdown",
   "metadata": {},
   "source": [
    "### Proof (via LLM utilization)"
   ]
  },
  {
   "cell_type": "code",
   "execution_count": null,
   "metadata": {},
   "outputs": [],
   "source": [
    "%%bash\n",
    "dsl-translation --to-language=Python \"\n",
    "DSL MODULE QRMon; \n",
    "create from dfFinance;\n",
    "compute quantile regression with 20 knots and interpolation order 2;\n",
    "show error plots\""
   ]
  },
  {
   "cell_type": "markdown",
   "metadata": {},
   "source": [
    "------\n",
    "\n",
    "## Definitions and details\n",
    "\n",
    "- The curves computed with Quantile Regression are called **regression quantiles**.\n",
    "\n",
    "- `Regressionizer` has three regression methods:\n",
    "  - `quantile_regression`\n",
    "  - `quantile_regression_fit`\n",
    "  - `least_squares_fit`\n",
    "\n",
    "- The regression quantiles computed with the methods `quantile_regression` and `quantile_regression_fit`\n",
    "  correspond to probabilities specified with the argument `probs`.\n",
    "\n",
    "- The method`quantile_regression` computes fits using a B-spline functions basis.\n",
    "  - The basis is specified with the arguments `knots` and `order`.\n",
    "  - `order` is 3 by default.\n",
    "\n",
    "- The methods `quantile_regession_fit` and `least_squares_fit` use lists of basis functions to fit with\n",
    "  specified with the argument `funcs`."
   ]
  }
 ],
 "metadata": {
  "kernelspec": {
   "display_name": "SciPyCentric",
   "language": "python",
   "name": "python3"
  },
  "language_info": {
   "name": "python",
   "version": "3.12.2"
  }
 },
 "nbformat": 4,
 "nbformat_minor": 2
}

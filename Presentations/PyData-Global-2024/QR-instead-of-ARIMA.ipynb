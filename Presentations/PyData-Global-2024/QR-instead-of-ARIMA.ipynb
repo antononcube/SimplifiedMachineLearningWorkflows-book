{
 "cells": [
  {
   "cell_type": "markdown",
   "metadata": {},
   "source": [
    "# Quantile Regression instead of ARIMA\n",
    "\n",
    "Anton Antonov   \n",
    "December 2024"
   ]
  },
  {
   "cell_type": "markdown",
   "metadata": {},
   "source": [
    "-------\n",
    "\n",
    "## Setup"
   ]
  },
  {
   "cell_type": "markdown",
   "metadata": {},
   "source": [
    "Load the [\"Regressionizer\"](https://pypi.org/project/Regressionizer/) and other \"standard\" packages:"
   ]
  },
  {
   "cell_type": "code",
   "execution_count": null,
   "metadata": {},
   "outputs": [],
   "source": [
    "from Regressionizer import *\n",
    "from OutlierIdentifiers import *\n",
    "\n",
    "import numpy as np\n",
    "import pandas as pd\n",
    "import plotly.express as px\n",
    "import plotly.graph_objects as go\n",
    "import plotly.subplots as sp"
   ]
  },
  {
   "cell_type": "code",
   "execution_count": null,
   "metadata": {},
   "outputs": [],
   "source": [
    "template='plotly_dark'\n",
    "data_color='darkgray'"
   ]
  },
  {
   "cell_type": "markdown",
   "metadata": {},
   "source": [
    "### Temperature data"
   ]
  },
  {
   "cell_type": "code",
   "execution_count": null,
   "metadata": {},
   "outputs": [],
   "source": [
    "url = \"https://raw.githubusercontent.com/antononcube/MathematicaVsR/master/Data/MathematicaVsR-Data-Atlanta-GA-USA-Temperature.csv\"\n",
    "dfTemperature = pd.read_csv(url)\n",
    "dfTemperature['DateObject'] = pd.to_datetime(dfTemperature['Date'], format='%Y-%m-%d')\n",
    "dfTemperature = dfTemperature[(dfTemperature['DateObject'].dt.year >= 2020) & (dfTemperature['DateObject'].dt.year <= 2023)]\n",
    "dfTemperature"
   ]
  },
  {
   "cell_type": "markdown",
   "metadata": {},
   "source": [
    "Prepare the data for `Regressionizer` pipelines:"
   ]
  },
  {
   "cell_type": "code",
   "execution_count": null,
   "metadata": {},
   "outputs": [],
   "source": [
    "temp_data = dfTemperature[['AbsoluteTime', 'Temperature']].to_numpy()\n",
    "temp_data.shape"
   ]
  },
  {
   "cell_type": "markdown",
   "metadata": {},
   "source": [
    "-----\n",
    "\n",
    "## First fit"
   ]
  },
  {
   "cell_type": "markdown",
   "metadata": {},
   "source": [
    "Let us demonstrate:\n",
    "\n",
    "1. Rescaling the data \n",
    "2. Using function basis with infinite support\n",
    "\n",
    "The latter allows using Quantile Regression with Autoregressive Integrated Moving Average (ARIMA)."
   ]
  },
  {
   "cell_type": "code",
   "execution_count": null,
   "metadata": {},
   "outputs": [],
   "source": [
    "bFuncs = [lambda x: 1] + [func for h in np.arange(20, 32, 2) for b in np.arange(0, 2*3.14159, 0.25) for func in (lambda x, b=b, h=h, f='sin': np.sin(b + h * x), lambda x, b=b, h=h, f='cos': np.cos(b + h * x))]\n",
    "\n",
    "len(bFuncs)"
   ]
  },
  {
   "cell_type": "code",
   "execution_count": null,
   "metadata": {},
   "outputs": [],
   "source": [
    "obj = (\n",
    "    Regressionizer(temp_data.copy())\n",
    "    .echo_data_summary()\n",
    "    .rescale(regressor=True, value=True)\n",
    "    .echo_data_summary()\n",
    "    .quantile_regression_fit(funcs=bFuncs, probs=[0.5])\n",
    "    .plot(title=\"Atlanta, Georgia, USA, Temperature, ℃ (rescaled)\", template=template, data_color=data_color, width = 1200)\n",
    ")"
   ]
  },
  {
   "cell_type": "code",
   "execution_count": null,
   "metadata": {},
   "outputs": [],
   "source": [
    "obj.take_value().show()"
   ]
  },
  {
   "cell_type": "markdown",
   "metadata": {},
   "source": [
    "## Most significant components"
   ]
  },
  {
   "cell_type": "code",
   "execution_count": null,
   "metadata": {},
   "outputs": [],
   "source": [
    "x = np.linspace(0, len(bFuncs)-1, len(bFuncs))\n",
    "yAbs = [abs(t) for t in obj.take_lp_solutions()[0]]\n",
    "\n",
    "# Create the scatter plot\n",
    "fig = go.Figure()\n",
    "fig.add_trace(go.Scatter(x=x, y=yAbs, mode='markers', marker=dict(color='SteelBlue', size=8), fill='tozeroy'))\n",
    "\n",
    "# Update layout\n",
    "fig.update_layout(title='Coefficients',\n",
    "                  xaxis_title='X-axis',\n",
    "                  yaxis_title='Y-axis',\n",
    "                  template = template\n",
    "                  )\n",
    "\n",
    "# Show the plot\n",
    "fig.show()"
   ]
  },
  {
   "cell_type": "code",
   "execution_count": null,
   "metadata": {},
   "outputs": [],
   "source": [
    "pos = np.argsort(yAbs)[-6:]\n",
    "print(\"pos: \", pos)\n",
    "bFuncsSmall = [bFuncs[i] for i in pos]"
   ]
  },
  {
   "cell_type": "markdown",
   "metadata": {},
   "source": [
    "Here we can see which functions (i.e. with what parameters) are in the \"top\" basis:"
   ]
  },
  {
   "cell_type": "code",
   "execution_count": null,
   "metadata": {},
   "outputs": [],
   "source": [
    "bFuncsSmall"
   ]
  },
  {
   "cell_type": "markdown",
   "metadata": {},
   "source": [
    "### Extension"
   ]
  },
  {
   "cell_type": "markdown",
   "metadata": {},
   "source": [
    "Fit with the smaller basis:"
   ]
  },
  {
   "cell_type": "code",
   "execution_count": null,
   "metadata": {},
   "outputs": [],
   "source": [
    "objSmall = (\n",
    "    Regressionizer(temp_data.copy())\n",
    "    .echo_data_summary()\n",
    "    .rescale(regressor=True, value=True)\n",
    "    .echo_data_summary()\n",
    "    .quantile_regression_fit(funcs=[lambda x: 1] + bFuncsSmall, probs=[0.5])\n",
    "    .plot(title=\"Atlanta, Georgia, USA, Temperature, ℃ (rescaled)\", template=template, data_color=data_color, width = 1200)\n",
    ")"
   ]
  },
  {
   "cell_type": "code",
   "execution_count": null,
   "metadata": {},
   "outputs": [],
   "source": [
    "objSmall.take_value().show()"
   ]
  },
  {
   "cell_type": "markdown",
   "metadata": {},
   "source": [
    "Plot the regression quantile over extended range of the regressor: "
   ]
  },
  {
   "cell_type": "code",
   "execution_count": null,
   "metadata": {},
   "outputs": [],
   "source": [
    "# Rescaled data\n",
    "dfDataRescaled = objSmall.take_data()\n",
    "\n",
    "# Regression quantile\n",
    "qFuncRescaled = objSmall.take_regression_quantiles().get(0.5)\n",
    "\n",
    "# Create the traces\n",
    "trace1 = go.Scatter(\n",
    "    x=dfDataRescaled[:,0],\n",
    "    y=dfDataRescaled[:,1],\n",
    "    mode='markers',\n",
    "    name='data',\n",
    "    line=dict(color='gray')\n",
    ")\n",
    "\n",
    "# Uniform the x-values\n",
    "xLonger = np.linspace(0, 1.5, 100)\n",
    "\n",
    "trace2 = go.Scatter(\n",
    "    x=xLonger,\n",
    "    y=[qFuncRescaled(t) for t in xLonger],\n",
    "    mode='lines',\n",
    "    name='Largest Sin/Cos fit',\n",
    "    line=dict(color='red')\n",
    ")\n",
    "\n",
    "# Create the figure object\n",
    "fig = go.Figure(data=[trace1, trace2])\n",
    "\n",
    "# Update layout\n",
    "fig.update_layout(title='Extension plot',\n",
    "                  xaxis_title='x',\n",
    "                  yaxis_title='y',\n",
    "                  template = template, width = 1000, height = 400\n",
    "                  )\n",
    "\n",
    "# Show the plot\n",
    "fig.show()"
   ]
  }
 ],
 "metadata": {
  "kernelspec": {
   "display_name": "SciPyCentric",
   "language": "python",
   "name": "python3"
  },
  "language_info": {
   "codemirror_mode": {
    "name": "ipython",
    "version": 3
   },
   "file_extension": ".py",
   "mimetype": "text/x-python",
   "name": "python",
   "nbconvert_exporter": "python",
   "pygments_lexer": "ipython3",
   "version": "3.12.2"
  }
 },
 "nbformat": 4,
 "nbformat_minor": 2
}

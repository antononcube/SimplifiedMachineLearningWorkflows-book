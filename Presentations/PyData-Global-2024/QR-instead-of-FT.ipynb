{
 "cells": [
  {
   "cell_type": "markdown",
   "metadata": {},
   "source": [
    "# Quantile Regression instead of Fourier Transform\n",
    "\n",
    "Anton Antonov   \n",
    "December 2019\n",
    "December 2024"
   ]
  },
  {
   "cell_type": "markdown",
   "metadata": {},
   "source": [
    "-----\n",
    "\n",
    "## Introduction"
   ]
  },
  {
   "cell_type": "markdown",
   "metadata": {},
   "source": [
    "As stated in [the previous answer](https://mathematica.stackexchange.com/a/191675/34008):"
   ]
  },
  {
   "cell_type": "markdown",
   "metadata": {},
   "source": [
    "> I am guessing that you are trying to fit the data to a sum of sinusoids, and use frequency analysis to provide guesses for the parameters.\n"
   ]
  },
  {
   "cell_type": "markdown",
   "metadata": {},
   "source": [
    "Below is an answer that is somewhat of a brute force identification of significant Sin and Cos expansion terms using Quantile Regression. \n",
    "(The coefficients of the basis functions found by Quantile Regression are used instead of, say, `Periodogram`.)"
   ]
  },
  {
   "cell_type": "markdown",
   "metadata": {},
   "source": [
    "The computations are done with the [package \"Regressionizer\"](https://pypi.org/project/Regressionizer/)."
   ]
  },
  {
   "cell_type": "markdown",
   "metadata": {},
   "source": [
    "-------\n",
    "\n",
    "## Setup"
   ]
  },
  {
   "cell_type": "code",
   "execution_count": null,
   "metadata": {},
   "outputs": [],
   "source": [
    "from Regressionizer import *\n",
    "from OutlierIdentifiers import *\n",
    "\n",
    "import numpy as np\n",
    "import pandas as pd\n",
    "import plotly.express as px\n",
    "import plotly.graph_objects as go\n",
    "import plotly.subplots as sp\n",
    "\n",
    "import inspect"
   ]
  },
  {
   "cell_type": "code",
   "execution_count": null,
   "metadata": {},
   "outputs": [],
   "source": [
    "template='plotly_dark'\n",
    "data_color='darkgray'"
   ]
  },
  {
   "cell_type": "markdown",
   "metadata": {},
   "source": [
    "----\n",
    "\n",
    "## Data"
   ]
  },
  {
   "cell_type": "code",
   "execution_count": null,
   "metadata": {},
   "outputs": [],
   "source": [
    "dirName = \"./\"\n",
    "fileName = dirName + \"/fourier-transform-data.csv.zip\"\n",
    "dfRawData = pd.read_csv(fileName, compression='zip')\n",
    "dfRawData = dfRawData.sort_values(by=dfRawData.columns[0])\n",
    "\n",
    "dfRawData"
   ]
  },
  {
   "cell_type": "markdown",
   "metadata": {},
   "source": [
    "-----\n",
    "\n",
    "## Procedure outline"
   ]
  },
  {
   "cell_type": "markdown",
   "metadata": {},
   "source": [
    "1. Make a reference fit with an appropriate B-spline basis.\n",
    "\n",
    "2. Compute a Quantile Regression fit with a large enough Sin/Cos basis functions.  \n",
    "\n",
    "   -  Use suitable ranges for frequency factors and phase offsets.\n",
    "\n",
    "3. Find the most significant contributors to the fit of step 2.\n",
    "\n",
    "   - Pick the obvious outliers.\n",
    "\n",
    "4. Compute Quantile Regression fit with the Sin/Cos functions found in the previous step. \n",
    "\n",
    "5. Examine the results and if needed re-iterate steps 2-5 with different function bases or Quantile Regression parameters.\n"
   ]
  },
  {
   "cell_type": "markdown",
   "metadata": {},
   "source": [
    "-----\n",
    "\n",
    "## Fit with B-splines"
   ]
  },
  {
   "cell_type": "markdown",
   "metadata": {},
   "source": [
    "In this section we do a fit with B-splines basis for a references."
   ]
  },
  {
   "cell_type": "code",
   "execution_count": null,
   "metadata": {},
   "outputs": [],
   "source": [
    "qrObj = (Regressionizer(dfRawData.to_numpy())\n",
    "   .echo_data_summary()\n",
    "   .quantile_regression(70, [0.5,])\n",
    "   .plot(template = template, width = 1000, height = 400)\n",
    "   )"
   ]
  },
  {
   "cell_type": "code",
   "execution_count": null,
   "metadata": {},
   "outputs": [],
   "source": [
    "qrObj.take_value().show()"
   ]
  },
  {
   "cell_type": "markdown",
   "metadata": {},
   "source": [
    "Here we take the fitted regression quantile:"
   ]
  },
  {
   "cell_type": "code",
   "execution_count": null,
   "metadata": {},
   "outputs": [],
   "source": [
    "qFunc = qrObj.take_regression_quantiles().get(0.5)\n",
    "qFunc"
   ]
  },
  {
   "cell_type": "markdown",
   "metadata": {},
   "source": [
    "# Search for Sin/Cos model"
   ]
  },
  {
   "cell_type": "markdown",
   "metadata": {},
   "source": [
    "Let us a make a large number of basis functions based on Fouriers expansion:"
   ]
  },
  {
   "cell_type": "code",
   "execution_count": null,
   "metadata": {},
   "outputs": [],
   "source": [
    "bFuncs = [lambda x: 1] + [func for h in np.arange(1.3, 6, 0.14) for b in np.arange(0, 1.1, 0.5) for func in (lambda x, b=b, h=h, f='sin': np.sin(b + h * x), lambda x, b=b, h=h, f='cos': np.cos(b + h * x))]\n",
    "\n",
    "len(bFuncs)"
   ]
  },
  {
   "cell_type": "markdown",
   "metadata": {},
   "source": [
    "Here is a fit with selected basis."
   ]
  },
  {
   "cell_type": "code",
   "execution_count": null,
   "metadata": {},
   "outputs": [],
   "source": [
    "qrObj2 = (Regressionizer(dfRawData.to_numpy())\n",
    "   .echo_data_summary()\n",
    "   .quantile_regression_fit(funcs=bFuncs, probs=[0.5,])\n",
    "   .plot(template = template, width = 1000, height = 400)\n",
    "   )"
   ]
  },
  {
   "cell_type": "code",
   "execution_count": null,
   "metadata": {},
   "outputs": [],
   "source": [
    "qrObj2.take_value().show()"
   ]
  },
  {
   "cell_type": "markdown",
   "metadata": {},
   "source": [
    "Here we take regression function from the monad object:"
   ]
  },
  {
   "cell_type": "code",
   "execution_count": null,
   "metadata": {},
   "outputs": [],
   "source": [
    "qFunc2 = qrObj2.take_regression_quantiles().get(0.5)\n",
    "qFunc2"
   ]
  },
  {
   "cell_type": "markdown",
   "metadata": {},
   "source": [
    "Here we can examine the most significant terms of the fit with the Sin/Cos basis:"
   ]
  },
  {
   "cell_type": "code",
   "execution_count": null,
   "metadata": {},
   "outputs": [],
   "source": [
    "x = np.linspace(0, len(bFuncs)-1, len(bFuncs))\n",
    "y = [abs(t) for t in qrObj2.take_lp_solutions()[0]]\n",
    "\n",
    "# Create the scatter plot\n",
    "fig = go.Figure()\n",
    "fig.add_trace(go.Scatter(x=x, y=y, mode='markers', marker=dict(color='Orange', size=10)))\n",
    "\n",
    "# Update layout\n",
    "fig.update_layout(title='Coefficients',\n",
    "                  xaxis_title='X-axis',\n",
    "                  yaxis_title='Y-axis',\n",
    "                  template = template\n",
    "                  )\n",
    "\n",
    "# Show the plot\n",
    "fig.show()\n"
   ]
  },
  {
   "cell_type": "markdown",
   "metadata": {},
   "source": [
    "Let us compare the two fits:"
   ]
  },
  {
   "cell_type": "code",
   "execution_count": null,
   "metadata": {},
   "outputs": [],
   "source": [
    "# Uniform the x-values\n",
    "x = np.linspace(dfRawData.iloc[0, 0], dfRawData.iloc[dfRawData.shape[0]-1,0], 100)\n",
    "\n",
    "# Create the traces\n",
    "trace1 = go.Scatter(\n",
    "    x=x,\n",
    "    y=[qFunc(t) for t in x],\n",
    "    mode='lines',\n",
    "    name='B-splines fit',\n",
    "    line=dict(color='blue')\n",
    ")\n",
    "\n",
    "trace2 = go.Scatter(\n",
    "    x=x,\n",
    "    y=[qFunc2(t) for t in x],\n",
    "    mode='lines',\n",
    "    name='Sin/Cos fit',\n",
    "    line=dict(color='red')\n",
    ")\n",
    "\n",
    "# Create the figure object\n",
    "fig = go.Figure(data=[trace1, trace2])\n",
    "\n",
    "# Update layout\n",
    "fig.update_layout(title='Comparison plot',\n",
    "                  xaxis_title='x',\n",
    "                  yaxis_title='y',\n",
    "                  template = template, width = 1000, height = 400\n",
    "                  )\n",
    "\n",
    "# Show the plot\n",
    "fig.show()"
   ]
  },
  {
   "cell_type": "markdown",
   "metadata": {},
   "source": [
    "# Re-do the fit with a more informed basis"
   ]
  },
  {
   "cell_type": "markdown",
   "metadata": {},
   "source": [
    "Here we select the Sin/Cos terms with the largest factors: "
   ]
  },
  {
   "cell_type": "code",
   "execution_count": null,
   "metadata": {},
   "outputs": [],
   "source": [
    "yAbs = [abs(t) for t in qrObj2.take_lp_solutions()[0]]\n",
    "pos = np.argsort(yAbs)[-8:]\n",
    "print(\"pos: \", pos)\n",
    "bFuncs3 = [bFuncs[i] for i in pos]"
   ]
  },
  {
   "cell_type": "code",
   "execution_count": null,
   "metadata": {},
   "outputs": [],
   "source": [
    "bFuncs3"
   ]
  },
  {
   "cell_type": "markdown",
   "metadata": {},
   "source": [
    "Here is a \"manually\" made basis:"
   ]
  },
  {
   "cell_type": "code",
   "execution_count": null,
   "metadata": {},
   "outputs": [],
   "source": [
    "bFuncs4 = [\n",
    "    lambda x: 1, \n",
    "    lambda t: np.sin(0. + 1.8*t), lambda t: np.sin(0. + 2.5*t), \n",
    "    lambda t: np.cos(1. + 1.8*t), lambda t: np.sin(0.5 + 1.8*t), lambda t: np.cos(1. + 4.1*t)]"
   ]
  },
  {
   "cell_type": "markdown",
   "metadata": {},
   "source": [
    "Here we do the fit:"
   ]
  },
  {
   "cell_type": "code",
   "execution_count": null,
   "metadata": {},
   "outputs": [],
   "source": [
    "qrObj3 = (Regressionizer(dfRawData.to_numpy())\n",
    "   .echo_data_summary()\n",
    "   .quantile_regression_fit(funcs=bFuncs3, probs=[0.5,])\n",
    "   .plot(template = template, width = 1000, height = 400)\n",
    "   )"
   ]
  },
  {
   "cell_type": "code",
   "execution_count": null,
   "metadata": {},
   "outputs": [],
   "source": [
    "qrObj3.take_value().show()"
   ]
  },
  {
   "cell_type": "markdown",
   "metadata": {},
   "source": [
    "Take the fitted regression quantile:"
   ]
  },
  {
   "cell_type": "code",
   "execution_count": null,
   "metadata": {},
   "outputs": [],
   "source": [
    "qFunc3 = qrObj3.take_regression_quantiles().get(0.5)\n",
    "qFunc3"
   ]
  },
  {
   "cell_type": "markdown",
   "metadata": {},
   "source": [
    "Again, let us compare with the reference fit:"
   ]
  },
  {
   "cell_type": "code",
   "execution_count": null,
   "metadata": {},
   "outputs": [],
   "source": [
    "# Create the traces\n",
    "trace1 = go.Scatter(\n",
    "    x=x,\n",
    "    y=[qFunc(t) for t in x],\n",
    "    mode='lines',\n",
    "    name='B-splines fit',\n",
    "    line=dict(color='blue')\n",
    ")\n",
    "\n",
    "trace2 = go.Scatter(\n",
    "    x=x,\n",
    "    y=[qFunc3(t) for t in x],\n",
    "    mode='lines',\n",
    "    name='Largest Sin/Cos fit',\n",
    "    line=dict(color='red')\n",
    ")\n",
    "\n",
    "# Create the figure object\n",
    "fig = go.Figure(data=[trace1, trace2])\n",
    "\n",
    "# Update layout\n",
    "fig.update_layout(title='Comparison plot',\n",
    "                  xaxis_title='x',\n",
    "                  yaxis_title='y',\n",
    "                  template = template, width = 1000, height = 400\n",
    "                  )\n",
    "\n",
    "# Show the plot\n",
    "fig.show()"
   ]
  },
  {
   "cell_type": "markdown",
   "metadata": {},
   "source": [
    "-----\n",
    "\n",
    "## Extension"
   ]
  },
  {
   "cell_type": "code",
   "execution_count": null,
   "metadata": {},
   "outputs": [],
   "source": [
    "# Create the traces\n",
    "trace1 = go.Scatter(\n",
    "    x=dfRawData[\"X\"].to_numpy(),\n",
    "    y=dfRawData[\"Y\"].to_numpy(),\n",
    "    mode='markers',\n",
    "    name='data',\n",
    "    line=dict(color='blue')\n",
    ")\n",
    "\n",
    "# Uniform the x-values\n",
    "xLonger = np.linspace(dfRawData.iloc[0, 0], 1.5 * dfRawData.iloc[dfRawData.shape[0]-1,0], 100)\n",
    "\n",
    "trace2 = go.Scatter(\n",
    "    x=xLonger,\n",
    "    y=[qFunc3(t) for t in xLonger],\n",
    "    mode='lines',\n",
    "    name='Largest Sin/Cos fit',\n",
    "    line=dict(color='red')\n",
    ")\n",
    "\n",
    "# Create the figure object\n",
    "fig = go.Figure(data=[trace1, trace2])\n",
    "\n",
    "# Update layout\n",
    "fig.update_layout(title='Extension plot',\n",
    "                  xaxis_title='x',\n",
    "                  yaxis_title='y',\n",
    "                  template = template, width = 1000, height = 400\n",
    "                  )\n",
    "\n",
    "# Show the plot\n",
    "fig.show()"
   ]
  },
  {
   "cell_type": "markdown",
   "metadata": {},
   "source": [
    "----\n",
    "\n",
    "## References"
   ]
  },
  {
   "cell_type": "markdown",
   "metadata": {},
   "source": [
    "[MSE1] [\"Fourier Transform to help guess with NonLinearModelFit\"](https://mathematica.stackexchange.com/q/191617/34008), \n",
    "(2019), \n",
    "[Mathematica.StackExchange](https://mathematica.stackexchange.com/)."
   ]
  }
 ],
 "metadata": {
  "kernelspec": {
   "display_name": "SciPyCentric",
   "language": "python",
   "name": "python3"
  },
  "language_info": {
   "codemirror_mode": {
    "name": "ipython",
    "version": 3
   },
   "file_extension": ".py",
   "mimetype": "text/x-python",
   "name": "python",
   "nbconvert_exporter": "python",
   "pygments_lexer": "ipython3",
   "version": "3.12.2"
  }
 },
 "nbformat": 4,
 "nbformat_minor": 2
}

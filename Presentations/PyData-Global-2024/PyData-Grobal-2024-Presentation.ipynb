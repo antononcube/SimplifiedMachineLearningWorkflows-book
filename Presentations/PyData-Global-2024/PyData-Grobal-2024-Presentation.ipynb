{
 "cells": [
  {
   "cell_type": "markdown",
   "id": "196ab194",
   "metadata": {},
   "source": [
    "\n",
    "# Quantile regression workflows\n",
    "\n",
    "<span style=\"font-size: 16pt; font-style: italic; font-weight: bold\">PyData Global 2024</span>\n",
    "\n",
    "December 2024"
   ]
  },
  {
   "cell_type": "markdown",
   "id": "e5c3ac6117854875",
   "metadata": {},
   "source": [
    "----\n",
    "\n",
    "## Abstract"
   ]
  },
  {
   "cell_type": "markdown",
   "id": "7782c55d",
   "metadata": {},
   "source": [
    "### Short\n",
    "\n",
    "This talk showcases and exemplifies the rapid specification and execution of Quantile Regression workflows. Various use cases are discussed, including fitting, outlier detection, conditional CDFs, and simulations, using different types of time series data."
   ]
  },
  {
   "cell_type": "markdown",
   "id": "bdd12175",
   "metadata": {},
   "source": [
    "### Longer"
   ]
  },
  {
   "cell_type": "markdown",
   "id": "a9c0cf09",
   "metadata": {},
   "source": [
    "\n",
    "Quantile Regression (QR) is a powerful analysis method that is often considered superior to other regression techniques. The benefits of QR are highlighted in this talk through multiple examples from various \"real-life\" time series, such as finance, weather, and human activities. The use of QR for fitting, outlier detection, conditional CDFs, and simulations will be demonstrated. The analysis is significantly simplified with the new Python package [\"Regressionizer\"](https://pypi.org/project/Regressionizer/), [AAp1], which allows for quick setup and execution of QR workflows.\n",
    "\n",
    "This presentation is intended for data analysts, data scientists, engineers, and anyone with an interest in time series analysis. A basic understanding of Python is all that is required from the audience, as the coding pipelines have been designed to be straightforward and easy to follow."
   ]
  },
  {
   "cell_type": "markdown",
   "id": "0dbbc0b6",
   "metadata": {},
   "source": [
    "### Teaser"
   ]
  },
  {
   "cell_type": "markdown",
   "id": "858b445e",
   "metadata": {},
   "source": [
    "![](https://raw.githubusercontent.com/antononcube/MathematicaVsR/refs/heads/master/Projects/QuantileRegressionWorkflows/Presentation-documents-useR-ODSC-Boston-2019-04-18/0-XKCD-2048-vs-QRMon.png)"
   ]
  },
  {
   "cell_type": "markdown",
   "id": "bbea7fbb",
   "metadata": {},
   "source": [
    "\n",
    "------\n",
    "\n",
    "## Workflows flowchart\n",
    "\n",
    "The following flowchart summarizes the workflows that are supported by [`Regressionizer`](https://pypi.org/project/Regressionizer/):\n",
    "\n",
    "![](https://raw.githubusercontent.com/antononcube/Python-Regressionizer/main/docs/img/Quantile-regression-workflow-extended.jpg)"
   ]
  },
  {
   "cell_type": "markdown",
   "id": "16d31868",
   "metadata": {},
   "source": [
    "-----\n",
    "\n",
    "##  History\n",
    "\n",
    "\n",
    "\n"
   ]
  },
  {
   "cell_type": "markdown",
   "id": "e6fdfb2d",
   "metadata": {},
   "source": [
    "- Quantile Regression (QR) started mid 17th century\n",
    "    - For Astronomy-related problems \n",
    "        - Similar to Linear Regression (LR)\n",
    "- Recently (≈ 50 years ago) Roger Koenker et al. introduced modern computational framework for QR\n",
    "    - And worked out QR-based inference"
   ]
  },
  {
   "cell_type": "markdown",
   "id": "0aa89e4a",
   "metadata": {},
   "source": [
    "### Previous work on software packages\n",
    "\n",
    "Roger Koenker implemented the R package \"quantreg\", [RKp1].\n",
    "Anton Antonov implemented the R package \"QRMon-R\" for the specification of monadic pipelines for doing QR, [AAp1].\n",
    "\n",
    "Several Wolfram Language (aka Mathematica) packages are implemented by Anton Antonov, see [AAp1, AAp2, AAf1].\n",
    "\n",
    "**Remark:** The paclets at the Wolfram Language Paclet Repository were initially Mathematica packages hosted at GitHub.\n",
    "The Wolfram Function Repository function\n",
    "[`QuantileRegression`](https://resources.wolframcloud.com/FunctionRepository/resources/QuantileRegression/), [AAf1]\n",
    "does only B-spline fitting."
   ]
  },
  {
   "cell_type": "markdown",
   "id": "64468dff",
   "metadata": {},
   "source": [
    "\n",
    "------\n",
    "\n",
    "## Summary of `Regressionizer` features"
   ]
  },
  {
   "cell_type": "markdown",
   "id": "3cc58a25",
   "metadata": {},
   "source": [
    "\n",
    "- The primary focus of `Regressionizer` is [Quantile Regression (QR)](https://en.wikipedia.org/wiki/Quantile_regression), [RK1, RK2].\n",
    "\n",
    "- It closely follows the monadic pipeline design explained in detail in the document\n",
    "[\"A monad for Quantile Regression workflows\"](https://github.com/antononcube/MathematicaForPrediction/blob/master/MarkdownDocuments/A-monad-for-Quantile-Regression-workflows.md), [AA1].\n",
    "\n",
    "- The class `Regressionizer` facilitates rapid specifications of regressions workflows.\n",
    "  - To quickly specify:\n",
    "    - data rescaling and summary\n",
    "    - regression computations\n",
    "    - outliers finding\n",
    "    - conditional Cumulative Distribution Functions (CDFs) reconstruction\n",
    "    - plotting of data, fits, residual errors, outliers, CDFs\n",
    "\n",
    "- `Regressionizer` works with data frames, numpy arrays, lists of numbers, and lists of numeric pairs."
   ]
  },
  {
   "cell_type": "markdown",
   "id": "5c32f674",
   "metadata": {},
   "source": [
    "### Proof (via LLM utilization)"
   ]
  },
  {
   "cell_type": "code",
   "execution_count": null,
   "id": "2376e7ad",
   "metadata": {},
   "outputs": [],
   "source": [
    "%%bash\n",
    "dsl-translation --to-language=Python \"DSL MODULE QRMon; create from dfFinance;\n",
    "compute quantile regression with 20 knots and interpolation order 2;\n",
    "show error plots\""
   ]
  },
  {
   "cell_type": "markdown",
   "id": "0f1653c1",
   "metadata": {},
   "source": [
    "------\n",
    "\n",
    "## Definitions and details\n",
    "\n",
    "- The curves computed with Quantile Regression are called **regression quantiles**.\n",
    "\n",
    "- `Regressionizer` has three regression methods:\n",
    "  - `quantile_regression`\n",
    "  - `quantile_regression_fit`\n",
    "  - `least_squares_fit`\n",
    "\n",
    "- The regression quantiles computed with the methods `quantile_regression` and `quantile_regression_fit`\n",
    "  correspond to probabilities specified with the argument `probs`.\n",
    "\n",
    "- The method`quantile_regression` computes fits using a B-spline functions basis.\n",
    "  - The basis is specified with the arguments `knots` and `order`.\n",
    "  - `order` is 3 by default.\n",
    "\n",
    "- The methods `quantile_regession_fit` and `least_squares_fit` use lists of basis functions to fit with\n",
    "  specified with the argument `funcs`."
   ]
  },
  {
   "cell_type": "markdown",
   "id": "6c1a5802",
   "metadata": {},
   "source": [
    "-------\n",
    "\n",
    "## Setup"
   ]
  },
  {
   "cell_type": "markdown",
   "id": "5625273d",
   "metadata": {},
   "source": [
    "Load the \"Regressionizer\" and other \"standard\" packages:"
   ]
  },
  {
   "cell_type": "code",
   "execution_count": null,
   "id": "initial_id",
   "metadata": {
    "ExecuteTime": {
     "end_time": "2024-08-24T02:13:17.777170Z",
     "start_time": "2024-08-24T02:13:17.162929Z"
    }
   },
   "outputs": [],
   "source": [
    "from Regressionizer import *\n",
    "from OutlierIdentifiers import *\n",
    "\n",
    "import numpy as np\n",
    "import pandas as pd\n",
    "import plotly.express as px\n",
    "import plotly.graph_objects as go\n",
    "import plotly.subplots as sp"
   ]
  },
  {
   "cell_type": "code",
   "execution_count": null,
   "id": "e214d937-505b-4139-8d0c-8f8fae0736f3",
   "metadata": {},
   "outputs": [],
   "source": [
    "template='plotly_dark'\n",
    "data_color='darkgray'"
   ]
  },
  {
   "cell_type": "markdown",
   "id": "02a65187",
   "metadata": {},
   "source": [
    "### Temperature data"
   ]
  },
  {
   "cell_type": "code",
   "execution_count": null,
   "id": "d22b9346",
   "metadata": {},
   "outputs": [],
   "source": [
    "url = \"https://raw.githubusercontent.com/antononcube/MathematicaVsR/master/Data/MathematicaVsR-Data-Atlanta-GA-USA-Temperature.csv\"\n",
    "dfTemperature = pd.read_csv(url)\n",
    "dfTemperature['DateObject'] = pd.to_datetime(dfTemperature['Date'], format='%Y-%m-%d')\n",
    "dfTemperature = dfTemperature[(dfTemperature['DateObject'].dt.year >= 2020) & (dfTemperature['DateObject'].dt.year <= 2023)]\n",
    "dfTemperature"
   ]
  },
  {
   "cell_type": "markdown",
   "id": "42abd3d7",
   "metadata": {},
   "source": [
    "### Financial data"
   ]
  },
  {
   "cell_type": "code",
   "execution_count": null,
   "id": "2ef05136",
   "metadata": {},
   "outputs": [],
   "source": [
    "dirName = \"../../../Python-Regressionizer/Regressionizer/resources\"\n",
    "fileName = dirName + \"/dfFinancialData.csv.zip\"\n",
    "dfFinancialData = pd.read_csv(fileName, compression='zip')\n",
    "dfFinancialData['Time'] = pd.to_datetime(dfFinancialData['Time'], format='%Y-%m-%d')\n",
    "dfFinancialData['Time'] = dfFinancialData['Time'].apply(lambda x: x.timestamp())\n",
    "\n",
    "dfFinancialData"
   ]
  },
  {
   "cell_type": "markdown",
   "id": "a56ca1c39a9e015b",
   "metadata": {},
   "source": [
    "\n",
    "### Distribution data"
   ]
  },
  {
   "cell_type": "markdown",
   "id": "dc1157bd",
   "metadata": {},
   "source": [
    "Generate random data:"
   ]
  },
  {
   "cell_type": "code",
   "execution_count": null,
   "id": "3d93c8fc0eff7660",
   "metadata": {
    "ExecuteTime": {
     "end_time": "2024-08-24T02:13:17.782644Z",
     "start_time": "2024-08-24T02:13:17.780334Z"
    }
   },
   "outputs": [],
   "source": [
    "np.random.seed(0)\n",
    "x = np.linspace(0, 2, 300)\n",
    "y = np.sin(2 * np.pi * x) + np.random.normal(0, 0.4, x.shape)\n",
    "data = np.column_stack((x, y))"
   ]
  },
  {
   "cell_type": "code",
   "execution_count": null,
   "id": "8872ab4d",
   "metadata": {},
   "outputs": [],
   "source": [
    "xs = np.arange(-3, 3.01, 0.01)\n",
    "dfDistributionData = pd.DataFrame({\n",
    "    'X': xs,\n",
    "    'Y': [np.exp(-x**2) + np.random.normal(0, 0.15 * np.sqrt(abs(1.5 - x) / 1.5)) for x in xs]\n",
    "})\n",
    "dfDistributionData"
   ]
  },
  {
   "cell_type": "code",
   "execution_count": null,
   "id": "1f46206e",
   "metadata": {},
   "outputs": [],
   "source": [
    "data = dfDistributionData.to_numpy()"
   ]
  },
  {
   "cell_type": "markdown",
   "id": "480b177b7e08b572",
   "metadata": {},
   "source": [
    "Plot the generated data:"
   ]
  },
  {
   "cell_type": "code",
   "execution_count": null,
   "id": "d86ce2722c06d9ca",
   "metadata": {
    "ExecuteTime": {
     "end_time": "2024-08-24T02:13:19.192333Z",
     "start_time": "2024-08-24T02:13:19.060865Z"
    }
   },
   "outputs": [],
   "source": [
    "fig = px.scatter(x=data[:, 0], y=data[:, 1], labels={'x': 'X-axis', 'y': 'Y-axis'}, template=template, width = 800, height = 600)\n",
    "fig.show()"
   ]
  },
  {
   "cell_type": "markdown",
   "id": "ad1565d18bc87727",
   "metadata": {},
   "source": [
    "------\n",
    "\n",
    "## Fit given functions"
   ]
  },
  {
   "cell_type": "markdown",
   "id": "4575c4cb408843d",
   "metadata": {},
   "source": [
    "Define a list of functions:"
   ]
  },
  {
   "cell_type": "code",
   "execution_count": null,
   "id": "52d505721ed33e11",
   "metadata": {
    "ExecuteTime": {
     "end_time": "2024-08-19T02:13:19.876592Z",
     "start_time": "2024-08-19T02:13:19.874634Z"
    }
   },
   "outputs": [],
   "source": [
    "funcs = [lambda x: 1, lambda x: x, lambda x: np.cos(x), lambda x: np.cos(3 * x), lambda x: np.cos(6 * x)]"
   ]
  },
  {
   "cell_type": "code",
   "execution_count": null,
   "id": "6f9899fbc696c439",
   "metadata": {
    "ExecuteTime": {
     "end_time": "2024-08-19T02:13:19.969085Z",
     "start_time": "2024-08-19T02:13:19.966474Z"
    }
   },
   "outputs": [],
   "source": [
    "def chebyshev_t_polynomials(n):\n",
    "    if n == 0:\n",
    "        return lambda x: 1\n",
    "    elif n == 1:\n",
    "        return lambda x: x\n",
    "    else:\n",
    "        T0 = lambda x: 1\n",
    "        T1 = lambda x: x\n",
    "        for i in range(2, n + 1):\n",
    "            Tn = lambda x, T0=T0, T1=T1: 2 * x * T1(x) - T0(x)\n",
    "            T0, T1 = T1, Tn\n",
    "        return Tn\n",
    "\n",
    "chebyshev_polynomials = [chebyshev_t_polynomials(i) for i in range(8)]"
   ]
  },
  {
   "cell_type": "markdown",
   "id": "2709104e342b95a5",
   "metadata": {},
   "source": [
    "Define ***regression quantile*** probabilities:"
   ]
  },
  {
   "cell_type": "code",
   "execution_count": null,
   "id": "625f3a9618bf2527",
   "metadata": {
    "ExecuteTime": {
     "end_time": "2024-08-19T02:13:19.981338Z",
     "start_time": "2024-08-19T02:13:19.979746Z"
    }
   },
   "outputs": [],
   "source": [
    "probs = [0.1, 0.5, 0.9]"
   ]
  },
  {
   "cell_type": "markdown",
   "id": "52b044f7b99793d6",
   "metadata": {},
   "source": [
    "Perform Quantile Regression and (non-linear) Least Squares Fit:"
   ]
  },
  {
   "cell_type": "code",
   "execution_count": null,
   "id": "34b344faedcde7e4",
   "metadata": {
    "ExecuteTime": {
     "end_time": "2024-08-19T02:13:20.016876Z",
     "start_time": "2024-08-19T02:13:19.991827Z"
    }
   },
   "outputs": [],
   "source": [
    "obj2 = (\n",
    "    Regressionizer(data)\n",
    "    .echo_data_summary()\n",
    "    .quantile_regression_fit(funcs=chebyshev_polynomials, probs=probs)\n",
    "    .least_squares_fit(funcs=chebyshev_polynomials)\n",
    "    .plot(title = \"Quantile Regression and Least Squares fitting using Chebyshev polynomials\", template=template)\n",
    ")"
   ]
  },
  {
   "cell_type": "markdown",
   "id": "8f7995bb77ba1cae",
   "metadata": {},
   "source": [
    "Plot the obtained regression quantilies and least squares fit:"
   ]
  },
  {
   "cell_type": "code",
   "execution_count": null,
   "id": "4b34c6295c4eb492",
   "metadata": {
    "ExecuteTime": {
     "end_time": "2024-08-19T02:13:20.061179Z",
     "start_time": "2024-08-19T02:13:20.027838Z"
    }
   },
   "outputs": [],
   "source": [
    "obj2.take_value().show()"
   ]
  },
  {
   "cell_type": "markdown",
   "id": "a78cbc19",
   "metadata": {},
   "source": [
    "The ***regression quantiles** separate the data according to the given probabilities:"
   ]
  },
  {
   "cell_type": "code",
   "execution_count": null,
   "id": "1cb68610",
   "metadata": {},
   "outputs": [],
   "source": [
    "obj2.separate(cumulative=True, fractions=True).take_value()"
   ]
  },
  {
   "cell_type": "markdown",
   "id": "4281aa70818d79be",
   "metadata": {},
   "source": [
    "-------\n",
    "\n",
    "## Fit B-splines"
   ]
  },
  {
   "cell_type": "markdown",
   "id": "c448c88f31319d1",
   "metadata": {},
   "source": [
    "Instead of coming-up with basis functions we can use B-spline basis:"
   ]
  },
  {
   "cell_type": "code",
   "execution_count": null,
   "id": "73375c100816d0a5",
   "metadata": {
    "ExecuteTime": {
     "end_time": "2024-08-19T02:13:48.056756Z",
     "start_time": "2024-08-19T02:13:48.029879Z"
    }
   },
   "outputs": [],
   "source": [
    "obj = Regressionizer(data).quantile_regression(knots=8, probs=[0.2, 0.5, 0.8]).plot(title=\"B-splines fit\", template=template)"
   ]
  },
  {
   "cell_type": "markdown",
   "id": "72c8a7b6",
   "metadata": {},
   "source": [
    "Show the obtained plot:"
   ]
  },
  {
   "cell_type": "code",
   "execution_count": null,
   "id": "f54c49939f97c268",
   "metadata": {
    "ExecuteTime": {
     "end_time": "2024-08-19T02:13:49.308750Z",
     "start_time": "2024-08-19T02:13:49.263378Z"
    }
   },
   "outputs": [],
   "source": [
    "obj.take_value().show()"
   ]
  },
  {
   "cell_type": "markdown",
   "id": "08bdb7ed",
   "metadata": {},
   "source": [
    "Here is a dictionary of the found regression quantiles:"
   ]
  },
  {
   "cell_type": "code",
   "execution_count": null,
   "id": "8a895c2269d64f5e",
   "metadata": {},
   "outputs": [],
   "source": [
    "obj.take_regression_quantiles()"
   ]
  },
  {
   "cell_type": "markdown",
   "id": "6256c3df",
   "metadata": {},
   "source": [
    "------\n",
    "\n",
    "## Weather temperature data"
   ]
  },
  {
   "cell_type": "markdown",
   "id": "951fad0f",
   "metadata": {},
   "source": [
    "Convert to \"numpy\" array: "
   ]
  },
  {
   "cell_type": "code",
   "execution_count": null,
   "id": "f54c7f5b",
   "metadata": {},
   "outputs": [],
   "source": [
    "temp_data = dfTemperature[['AbsoluteTime', 'Temperature']].to_numpy()\n",
    "temp_data.shape"
   ]
  },
  {
   "cell_type": "markdown",
   "id": "e3650dce",
   "metadata": {},
   "source": [
    "Here is pipeline for Quantile Regression computation and making of a corresponding plot:"
   ]
  },
  {
   "cell_type": "code",
   "execution_count": null,
   "id": "4f12fd17",
   "metadata": {},
   "outputs": [],
   "source": [
    "obj = (\n",
    "    Regressionizer(temp_data)\n",
    "    .echo_data_summary()\n",
    "    .quantile_regression(knots=20, probs=[0.2, 0.5, 0.8])\n",
    "    .date_list_plot(title=\"Atlanta, Georgia, USA, Temperature, ℃\", template=template, data_color=data_color, width = 1200)\n",
    ")"
   ]
  },
  {
   "cell_type": "markdown",
   "id": "f3edbec4",
   "metadata": {},
   "source": [
    "Show the obtained plot:"
   ]
  },
  {
   "cell_type": "code",
   "execution_count": null,
   "id": "f10eb784",
   "metadata": {},
   "outputs": [],
   "source": [
    "obj.take_value().show()"
   ]
  },
  {
   "cell_type": "markdown",
   "id": "840d366e",
   "metadata": {},
   "source": [
    "Here we show the fractions of the number of points under each regression quantile:"
   ]
  },
  {
   "cell_type": "code",
   "execution_count": null,
   "id": "121ef46c",
   "metadata": {},
   "outputs": [],
   "source": [
    "obj.separate(cumulative=True, fractions=True).take_value()"
   ]
  },
  {
   "cell_type": "markdown",
   "id": "ec67780b",
   "metadata": {},
   "source": [
    "**Remark:** If the quantile regression algorithms work correctly then the cumulation separation fractions correspond -- i.e. are nearly equal - to the probabilities of the regression quantiles."
   ]
  },
  {
   "cell_type": "markdown",
   "id": "faa93dbb",
   "metadata": {},
   "source": [
    "-------\n",
    "\n",
    "## Fitting errors"
   ]
  },
  {
   "cell_type": "markdown",
   "id": "97d716ad",
   "metadata": {},
   "source": [
    "### Errors"
   ]
  },
  {
   "cell_type": "markdown",
   "id": "d0bc0d9a",
   "metadata": {},
   "source": [
    "Here the absolute fitting errors are computed and the average is for each is computed:"
   ]
  },
  {
   "cell_type": "code",
   "execution_count": null,
   "id": "36e46f5e",
   "metadata": {},
   "outputs": [],
   "source": [
    "{ k : np.mean(np.array(d)[:,1]) for k, d in obj.errors(relative_errors=False).take_value().items() }"
   ]
  },
  {
   "cell_type": "markdown",
   "id": "12f536d3",
   "metadata": {},
   "source": [
    "### Error plots"
   ]
  },
  {
   "cell_type": "markdown",
   "id": "c58aec78",
   "metadata": {},
   "source": [
    "Here we give the fitting errors (residuals) for the regression quantiles found and plotted above:"
   ]
  },
  {
   "cell_type": "code",
   "execution_count": null,
   "id": "069ef257",
   "metadata": {},
   "outputs": [],
   "source": [
    "obj.error_plots(relative_errors=False, date_plot=True, template=template, width=1200, height=300).take_value().show()"
   ]
  },
  {
   "cell_type": "markdown",
   "id": "cdf999d5",
   "metadata": {},
   "source": [
    "------\n",
    "\n",
    "## Outliers"
   ]
  },
  {
   "cell_type": "markdown",
   "id": "4e64f9c8",
   "metadata": {},
   "source": [
    "One way to find _contextual_ outliers in time series is to find regression quantiles at low- and high enough probabilities, and then select the points \"outside\" of those curves:"
   ]
  },
  {
   "cell_type": "code",
   "execution_count": null,
   "id": "38f0c928",
   "metadata": {},
   "outputs": [],
   "source": [
    "obj = (\n",
    "    Regressionizer(temp_data)\n",
    "    .quantile_regression(knots=20, probs=[0.01,  0.99], order=3)\n",
    "    .outliers()\n",
    ")\n",
    "\n",
    "obj.take_value()"
   ]
  },
  {
   "cell_type": "markdown",
   "id": "198226a1",
   "metadata": {},
   "source": [
    "Here we plot the outliers (using a \"narrower band\" than above):"
   ]
  },
  {
   "cell_type": "code",
   "execution_count": null,
   "id": "0a6eb0d6",
   "metadata": {},
   "outputs": [],
   "source": [
    "obj = (\n",
    "    Regressionizer(temp_data)\n",
    "    .quantile_regression(knots=20, probs=[0.05,  0.95], order=3)\n",
    "    .outliers_plot(\n",
    "        title=\"Outliers of Atlanta, Georgia, USA, Temperature, ℃\",\n",
    "        date_plot=True, \n",
    "        template=template,\n",
    "        data_color=data_color,\n",
    "        width = 1200, height = 400)\n",
    ")\n",
    "\n",
    "obj.take_value().show()"
   ]
  },
  {
   "cell_type": "markdown",
   "id": "85b13989",
   "metadata": {},
   "source": [
    "------\n",
    "\n",
    "## Point anomalies"
   ]
  },
  {
   "cell_type": "markdown",
   "id": "8750896d",
   "metadata": {},
   "source": [
    "Here is pipeline for Quantile Regression computation and making of a corresponding plot:"
   ]
  },
  {
   "cell_type": "code",
   "execution_count": null,
   "id": "8561f155",
   "metadata": {},
   "outputs": [],
   "source": [
    "obj = (\n",
    "    Regressionizer(dfFinancialData.to_numpy())\n",
    "    .echo_data_summary()\n",
    "    .quantile_regression(knots=20, probs=[0.2])\n",
    "    .date_list_plot(title=\"Financial data\", template=template, data_color=data_color, width = 1200)\n",
    ")"
   ]
  },
  {
   "cell_type": "markdown",
   "id": "63277695",
   "metadata": {},
   "source": [
    "Show the obtained plot:"
   ]
  },
  {
   "cell_type": "code",
   "execution_count": null,
   "id": "16e157f4",
   "metadata": {},
   "outputs": [],
   "source": [
    "fig = obj.take_value()\n",
    "fig.show()\n"
   ]
  },
  {
   "cell_type": "code",
   "execution_count": null,
   "id": "90fa3149",
   "metadata": {},
   "outputs": [],
   "source": [
    "outliers = (obj\n",
    ".find_anomalies_by_residuals(\n",
    "    relative_errors=True,\n",
    "    threshold=None, \n",
    "    outlier_identifier=quartile_identifier_parameters)\n",
    ".take_value());\n",
    "\n",
    "fig.add_trace(go.Scatter(x=to_datetime_index(outliers[:,0]), y=outliers[:,1], mode='markers', name='Outliers', marker_color = \"orange\"))"
   ]
  },
  {
   "cell_type": "code",
   "execution_count": null,
   "id": "e93b4809",
   "metadata": {},
   "outputs": [],
   "source": [
    "outliers = (obj\n",
    ".find_anomalies_by_residuals(\n",
    "    relative_errors=False,\n",
    "    threshold=None, \n",
    "    outlier_identifier=hampel_identifier_parameters)\n",
    ".take_value());\n",
    "\n",
    "fig.add_trace(go.Scatter(x=to_datetime_index(outliers[:,0]), y=outliers[:,1], mode='markers', name=\"Outliers 2\", marker_color = \"Red\"))"
   ]
  },
  {
   "cell_type": "markdown",
   "id": "ccb0d217",
   "metadata": {},
   "source": [
    "---------\n",
    "\n",
    "## Pick points along regression quantiles  "
   ]
  },
  {
   "cell_type": "markdown",
   "id": "f83b2a2d",
   "metadata": {},
   "source": [
    "Here is a workflow that finds a regression quantile for probability `0.5` and pick data points around it:"
   ]
  },
  {
   "cell_type": "code",
   "execution_count": null,
   "id": "b8ace729",
   "metadata": {},
   "outputs": [],
   "source": [
    "probs = [0.5,]\n",
    "obj=(\n",
    "    Regressionizer(temp_data)\n",
    "    .quantile_regression(knots=20, probs=probs)\n",
    "    .pick_path_points(threshold=1.5, relative_errors=False)\n",
    "    )\n",
    "\n",
    "path_points = np.array(obj.take_value()[probs[0]])\n",
    "dfPathPoints = pd.DataFrame(path_points)\n",
    "dfPathPoints"
   ]
  },
  {
   "cell_type": "markdown",
   "id": "1546d26c",
   "metadata": {},
   "source": [
    "Get the a `Figure` object from the `Regressionizer` object:"
   ]
  },
  {
   "cell_type": "code",
   "execution_count": null,
   "id": "25b67aaa",
   "metadata": {},
   "outputs": [],
   "source": [
    "fig = obj.date_plot(width=1200, template=template, data_color=data_color).take_value()"
   ]
  },
  {
   "cell_type": "markdown",
   "id": "a92703ea",
   "metadata": {},
   "source": [
    "Plot the data and the path points:"
   ]
  },
  {
   "cell_type": "code",
   "execution_count": null,
   "id": "7557c2af",
   "metadata": {},
   "outputs": [],
   "source": [
    "fig.add_trace(go.Scatter(x=to_datetime_index(path_points[:,0]), y=path_points[:,1], mode='markers', name='Picked points'))\n",
    "fig.show()"
   ]
  },
  {
   "cell_type": "markdown",
   "id": "31807fbe",
   "metadata": {},
   "source": [
    "Plot just the path points:"
   ]
  },
  {
   "cell_type": "code",
   "execution_count": null,
   "id": "1fbb9f87",
   "metadata": {},
   "outputs": [],
   "source": [
    "fig = px.scatter(x=dfPathPoints.iloc[:,0], y=dfPathPoints.iloc[:,1], template=template, width=1200)\n",
    "\n",
    "fig.show()"
   ]
  },
  {
   "cell_type": "markdown",
   "id": "ebdbec1d",
   "metadata": {},
   "source": [
    "--------\n",
    "\n",
    "## Conditional CDF"
   ]
  },
  {
   "cell_type": "markdown",
   "id": "e77288cd",
   "metadata": {},
   "source": [
    "Here is a list of probabilities to be used to reconstruct Cumulative Distribution Functions (CDFs):"
   ]
  },
  {
   "cell_type": "code",
   "execution_count": null,
   "id": "e15edcac",
   "metadata": {},
   "outputs": [],
   "source": [
    "probs = np.sort(np.concatenate((np.arange(0.1, 1.0, 0.1), [0.01, 0.99])))\n",
    "probs"
   ]
  },
  {
   "cell_type": "markdown",
   "id": "e6e4e4ce",
   "metadata": {},
   "source": [
    "Here we find the regression quantiles for those probabilities:"
   ]
  },
  {
   "cell_type": "code",
   "execution_count": null,
   "id": "dc3eaf83",
   "metadata": {},
   "outputs": [],
   "source": [
    "obj=(\n",
    "    Regressionizer(temp_data)\n",
    "    .quantile_regression(knots=20,probs=probs)\n",
    "    .date_list_plot(template=template, data_color=\"darkgray\", width=1200)\n",
    "    )"
   ]
  },
  {
   "cell_type": "markdown",
   "id": "7323fbe7",
   "metadata": {},
   "source": [
    "Here we show the plot obtained above:"
   ]
  },
  {
   "cell_type": "code",
   "execution_count": null,
   "id": "ce334bbe",
   "metadata": {},
   "outputs": [],
   "source": [
    "obj.take_value().show()"
   ]
  },
  {
   "cell_type": "markdown",
   "id": "6bdcfb34",
   "metadata": {},
   "source": [
    "### Get CDF function"
   ]
  },
  {
   "cell_type": "markdown",
   "id": "3950a609",
   "metadata": {},
   "source": [
    "Here we take a date in ISO format and convert to number of seconds since 1900-01-01:"
   ]
  },
  {
   "cell_type": "code",
   "execution_count": null,
   "id": "ab91c02e",
   "metadata": {},
   "outputs": [],
   "source": [
    "from datetime import datetime\n",
    "\n",
    "iso_date = \"2022-01-01\"\n",
    "date_object = datetime.fromisoformat(iso_date)\n",
    "epoch = datetime(1900, 1, 1)\n",
    "\n",
    "focusPoint = int((date_object - epoch).total_seconds())\n",
    "print(focusPoint)"
   ]
  },
  {
   "cell_type": "markdown",
   "id": "a721540e",
   "metadata": {},
   "source": [
    "Here the _conditional_ CDF at that date is computed:"
   ]
  },
  {
   "cell_type": "code",
   "execution_count": null,
   "id": "e80f63fe",
   "metadata": {},
   "outputs": [],
   "source": [
    "aCDFs = obj.conditional_cdf(focusPoint).take_value()\n",
    "aCDFs"
   ]
  },
  {
   "cell_type": "markdown",
   "id": "69c5d54b",
   "metadata": {},
   "source": [
    "Plot the obtained CDF function:"
   ]
  },
  {
   "cell_type": "code",
   "execution_count": null,
   "id": "475e6de4",
   "metadata": {},
   "outputs": [],
   "source": [
    "xs = np.linspace(obj.take_regression_quantiles()[0.01](focusPoint), obj.take_regression_quantiles()[0.99](focusPoint), 20)\n",
    "cdf_values = [aCDFs[focusPoint](x) for x in xs]\n",
    "\n",
    "fig = go.Figure(data=[go.Scatter(x=xs, y=cdf_values, mode='lines')])\n",
    "# Update layout\n",
    "fig.update_layout(\n",
    "    title='Temperature Data CDF at ' + str(focusPoint),\n",
    "    xaxis_title='Temperature',\n",
    "    yaxis_title='Probability',\n",
    "    template=template,\n",
    "    legend=dict(title='Legend'),\n",
    "    height=300,\n",
    "    width=800\n",
    ")\n",
    "fig.show()"
   ]
  },
  {
   "cell_type": "markdown",
   "id": "ceafd20c",
   "metadata": {},
   "source": [
    "### Plot multiple CDFs"
   ]
  },
  {
   "cell_type": "markdown",
   "id": "515155e1",
   "metadata": {},
   "source": [
    "Here are few dates converted into number of seconds since 1990-01-01:"
   ]
  },
  {
   "cell_type": "code",
   "execution_count": null,
   "id": "fe660df2",
   "metadata": {},
   "outputs": [],
   "source": [
    "pointsForCDFs = [focusPoint + i * 365 * 24 * 3600 for i in range(-1,2)]\n",
    "pointsForCDFs"
   ]
  },
  {
   "cell_type": "markdown",
   "id": "3ca0ac7b",
   "metadata": {},
   "source": [
    "Here are the plots of CDF at those dates:"
   ]
  },
  {
   "cell_type": "code",
   "execution_count": null,
   "id": "096c6016",
   "metadata": {},
   "outputs": [],
   "source": [
    "obj.conditional_cdf_plot(pointsForCDFs, title = 'CDFs', template=template).take_value().show()"
   ]
  },
  {
   "cell_type": "markdown",
   "id": "690d3f15",
   "metadata": {},
   "source": [
    "-----\n",
    "\n",
    "## Simulation"
   ]
  },
  {
   "cell_type": "markdown",
   "id": "bfd30412",
   "metadata": {},
   "source": [
    "Here is a pipeline that produces simulated time series based on fitted regression quantiles:"
   ]
  },
  {
   "cell_type": "code",
   "execution_count": null,
   "id": "113d6ff1",
   "metadata": {},
   "outputs": [],
   "source": [
    "sim_points = (\n",
    "    Regressionizer(temp_data)\n",
    "    .echo_data_summary()\n",
    "    .quantile_regression(knots=20, probs=[0.001, 0.1, 0.2, 0.3, 0.4, 0.5, 0.6, 0.7, 0.8, 0.9, 0.999])\n",
    "    .simulate(800)\n",
    "    .take_value()\n",
    ")"
   ]
  },
  {
   "cell_type": "markdown",
   "id": "e7439952",
   "metadata": {},
   "source": [
    "Here is the plot of the original and simulated time series:"
   ]
  },
  {
   "cell_type": "code",
   "execution_count": null,
   "id": "6514ab9e",
   "metadata": {},
   "outputs": [],
   "source": [
    "fig = sp.make_subplots(rows=2, cols=1, subplot_titles=['Original time series', 'Simulated time series'])\n",
    "fig.add_trace(go.Scatter(x=to_datetime_index(temp_data[:,0]), y=temp_data[:,1], mode='lines', name=None), row = 1, col = 1)\n",
    "fig.add_trace(go.Scatter(x=to_datetime_index(sim_points[:,0]), y=sim_points[:,1], mode='lines', name=None), row = 2, col = 1)\n",
    "fig.update_layout(template=template, title = \"Weather temperature data\", showlegend=False)\n",
    "fig.show()"
   ]
  },
  {
   "cell_type": "markdown",
   "id": "dcd1e0c4",
   "metadata": {},
   "source": [
    "-----\n",
    "\n",
    "## Big picture"
   ]
  },
  {
   "cell_type": "markdown",
   "id": "4c23dce8",
   "metadata": {},
   "source": [
    "- Having a \"complete\" set of Machine Learning (ML) workflows in several programming languages.\n",
    "  - The focus is on Python, R, and Wolfram Language (WL).\n",
    "- Python's Quantile Regression pipeline implementation was missing for years.\n",
    "- Code generation using both:\n",
    "  - Large Language Models (LLM)\n",
    "  - Grammar-based interpreters (ie. \"Small Language Models\")"
   ]
  },
  {
   "cell_type": "markdown",
   "id": "40774631",
   "metadata": {},
   "source": [
    "----- \n",
    "\n",
    "## LLM support "
   ]
  },
  {
   "cell_type": "markdown",
   "id": "f468b811",
   "metadata": {},
   "source": [
    "Code generation via LLMs can be done using:\n",
    "\n",
    "1. Examples of natural language phrases/commands to pipeline segments\n",
    "2. Question Answering System (QAS)"
   ]
  },
  {
   "cell_type": "markdown",
   "id": "d5688543",
   "metadata": {},
   "source": [
    "Here is an example of QSA via LLMs:"
   ]
  },
  {
   "cell_type": "code",
   "execution_count": null,
   "id": "48a5251c",
   "metadata": {},
   "outputs": [],
   "source": [
    "%%bash\n",
    "concretize -l=Python Make a quantile regression pipeline, using 20 notes and the data set dfTemperature"
   ]
  },
  {
   "cell_type": "code",
   "execution_count": null,
   "id": "5d3c893f",
   "metadata": {},
   "outputs": [],
   "source": [
    "qrObj = (Regressionizer(dfTemperature[[\"AbsoluteTime\", \"Temperature\"]].to_numpy())\n",
    ".echo_data_summary()\n",
    ".quantile_regression(knots = 20, probs = [0.25, 0.5, 0.75], order = 3)\n",
    ".plot(date_plot = True, template=template)\n",
    ")"
   ]
  },
  {
   "cell_type": "code",
   "execution_count": null,
   "id": "c4dd435a",
   "metadata": {},
   "outputs": [],
   "source": [
    "qrObj.take_value()"
   ]
  },
  {
   "cell_type": "markdown",
   "id": "ead0ec0b",
   "metadata": {},
   "source": [
    "-----\n",
    "\n",
    "## Conclusion \n",
    "\n",
    "### Questions"
   ]
  },
  {
   "cell_type": "markdown",
   "id": "b9ab513b",
   "metadata": {},
   "source": [
    "### Anticipated questions"
   ]
  },
  {
   "cell_type": "markdown",
   "id": "a12b1fe8",
   "metadata": {},
   "source": [
    "\n",
    "- Can we do Multi-dimensional Quantile Regression (QR)?\n",
    "- What happens when fitting through only few points?\n",
    "- What other anomaly detection methods can be used?\n",
    "- Is there are a list of all \"good\" features QR?"
   ]
  },
  {
   "cell_type": "markdown",
   "id": "c30554ef",
   "metadata": {},
   "source": [
    "------\n",
    "\n",
    "## References\n",
    "\n",
    "### Articles, books\n",
    "\n",
    "[RK1] Roger Koenker, \n",
    "[Quantile Regression](https://books.google.com/books/about/Quantile_Regression.html?id=hdkt7V4NXsgC), \n",
    "Cambridge University Press, 2005.\n",
    "\n",
    "[RK2] Roger Koenker,\n",
    "[\"Quantile Regression in R: a vignette\"](https://cran.r-project.org/web/packages/quantreg/vignettes/rq.pdf),\n",
    "(2006),\n",
    "[CRAN](https://cran.r-project.org/).\n",
    "\n",
    "[AA1] Anton Antonov,\n",
    "[\"A monad for Quantile Regression workflows\"](https://github.com/antononcube/MathematicaForPrediction/blob/master/MarkdownDocuments/A-monad-for-Quantile-Regression-workflows.md),\n",
    "(2018),\n",
    "[MathematicaForPrediction at GitHub](https://github.com/antononcube/MathematicaForPrediction).\n",
    "\n",
    "### Packages, paclets\n",
    "\n",
    "[AAp1] Anton Antonov,\n",
    "[Quantile Regression Python package](https://github.com/antononcube/Python-Regressionizer),\n",
    "(2024),\n",
    "[GitHub/antononcube](https://github.com/antononcube).\n",
    "\n",
    "[AAp2] Anton Antonov,\n",
    "[`QRMon-R`](https://github.com/antononcube/QRMon-R),\n",
    "(2019),\n",
    "[GitHub/antononcube](https://github.com/antononcube).\n",
    "\n",
    "[AAp3] Anton Antonov,\n",
    "[Quantile Regression WL paclet](https://github.com/antononcube/WL-QuantileRegression-paclet),\n",
    "(2014-2023),\n",
    "[GitHub/antononcube](https://github.com/antononcube).\n",
    "\n",
    "[AAp4] Anton Antonov,\n",
    "[Monadic Quantile Regression WL paclet](https://github.com/antononcube/WL-MonadicQuantileRegression-paclet),\n",
    "(2018-2024),\n",
    "[GitHub/antononcube](https://github.com/antononcube).\n",
    "\n",
    "[AAf1] Anton Antonov,\n",
    "[`QuantileRegression`](https://resources.wolframcloud.com/FunctionRepository/resources/QuantileRegression),\n",
    "(2019),\n",
    "[Wolfram Function Repository](https://resources.wolframcloud.com/FunctionRepository/resources/QuantileRegression).\n",
    "\n",
    "[RKp1] Roger Koenker,\n",
    "[`quantreg`](https://cran.r-project.org/web/packages/quantreg/index.html),\n",
    "[CRAN](https://cran.r-project.org/).\n",
    "\n",
    "### Repositories\n",
    "\n",
    "[AAr1] Anton Antonov,\n",
    "[DSL::English::QuantileRegressionWorkflows in Raku](https://github.com/antononcube/Raku-DSL-English-QuantileRegressionWorkflows),\n",
    "(2020),\n",
    "[GitHub/antononcube](https://github.com/antononcube/Raku-DSL-English-QuantileRegressionWorkflows).\n",
    "\n",
    "\n",
    "### Videos\n",
    "\n",
    "[AAv1] Anton Antonov,\n",
    "[\"Boston useR! QuantileRegression Workflows 2019-04-18\"](https://www.youtube.com/watch?v=a_Dk25xarvE),\n",
    "(2019),\n",
    "[Anton Antonov at YouTube](https://www.youtube.com/@AAA4Prediction).\n",
    "\n",
    "[AAv2] Anton Antonov,\n",
    "[\"useR! 2020: How to simplify Machine Learning workflows specifications\"](https://www.youtube.com/watch?v=b9Uu7gRF5KY),\n",
    "(2020),\n",
    "[R Consortium at YouTube](https://www.youtube.com/channel/UC_R5smHVXRYGhZYDJsnXTwg)."
   ]
  }
 ],
 "metadata": {
  "kernelspec": {
   "display_name": "SciPyCentric",
   "language": "python",
   "name": "python3"
  },
  "language_info": {
   "codemirror_mode": {
    "name": "ipython",
    "version": 3
   },
   "file_extension": ".py",
   "mimetype": "text/x-python",
   "name": "python",
   "nbconvert_exporter": "python",
   "pygments_lexer": "ipython3",
   "version": "3.12.2"
  }
 },
 "nbformat": 4,
 "nbformat_minor": 5
}
